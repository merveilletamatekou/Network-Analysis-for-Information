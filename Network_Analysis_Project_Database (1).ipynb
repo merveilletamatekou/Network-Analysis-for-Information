{
  "nbformat": 4,
  "nbformat_minor": 0,
  "metadata": {
    "colab": {
      "provenance": []
    },
    "kernelspec": {
      "name": "python3",
      "display_name": "Python 3"
    },
    "language_info": {
      "name": "python"
    }
  },
  "cells": [
    {
      "cell_type": "markdown",
      "source": [
        "## Requirements"
      ],
      "metadata": {
        "id": "sJhSsB2y_5zG"
      }
    },
    {
      "cell_type": "code",
      "source": [
        "import pandas as pd\n",
        "import pickle\n",
        "import os\n",
        "import numpy as np\n",
        "import glob as gb\n",
        "from sklearn.model_selection import train_test_split"
      ],
      "metadata": {
        "id": "c3s1v9DCj8S8"
      },
      "execution_count": 1,
      "outputs": []
    },
    {
      "cell_type": "code",
      "source": [
        "from google.colab import drive\n",
        "drive.mount('/content/drive')"
      ],
      "metadata": {
        "colab": {
          "base_uri": "https://localhost:8080/"
        },
        "id": "VHAd6dtgjTxH",
        "outputId": "aa263f7b-9210-4cd3-b569-9feaccb6f553"
      },
      "execution_count": 2,
      "outputs": [
        {
          "output_type": "stream",
          "name": "stdout",
          "text": [
            "Mounted at /content/drive\n"
          ]
        }
      ]
    },
    {
      "cell_type": "markdown",
      "source": [
        "## Décompression de l'archive ZIP"
      ],
      "metadata": {
        "id": "jbSKlN9R_kj3"
      }
    },
    {
      "cell_type": "code",
      "source": [
        "!unzip /content/drive/MyDrive/data.zip -d -y /content"
      ],
      "metadata": {
        "colab": {
          "base_uri": "https://localhost:8080/"
        },
        "id": "A27LDRHHjUWe",
        "outputId": "35135dcd-6e55-4d1a-8d11-5fe53263bc77"
      },
      "execution_count": 3,
      "outputs": [
        {
          "output_type": "stream",
          "name": "stdout",
          "text": [
            "Archive:  /content/drive/MyDrive/data.zip\n",
            "caution: filename not matched:  /content\n"
          ]
        }
      ]
    },
    {
      "cell_type": "markdown",
      "source": [
        "## Chargement de la base de données"
      ],
      "metadata": {
        "id": "JkPHje9-_fa5"
      }
    },
    {
      "cell_type": "code",
      "source": [
        "# Chemin du répertoire contenant les fichiers pickle\n",
        "directory_path = '/content/drive/MyDrive/20240125_dataset_pickle/'\n",
        "\n",
        "# Recherche des fichiers pickle dans le répertoire spécifié\n",
        "pickle_files = gb.glob(directory_path + '*.pickle')\n",
        "\n",
        "# Sélection du premier fichier trouvé (s'il y en a)\n",
        "if pickle_files:\n",
        "    first_pickle_file = pickle_files[0]\n",
        "    print(\"Premier fichier pickle trouvé :\", first_pickle_file)\n",
        "else:\n",
        "    print(\"Aucun fichier pickle trouvé dans le répertoire spécifié.\")"
      ],
      "metadata": {
        "colab": {
          "base_uri": "https://localhost:8080/"
        },
        "id": "GiEY5umRjhl3",
        "outputId": "e69d9127-e00e-4399-c691-e28af929a3c1"
      },
      "execution_count": 4,
      "outputs": [
        {
          "output_type": "stream",
          "name": "stdout",
          "text": [
            "Premier fichier pickle trouvé : /content/drive/MyDrive/20240125_dataset_pickle/20240124_dataset_1895_assr.pickle\n"
          ]
        }
      ]
    },
    {
      "cell_type": "code",
      "source": [
        "# Chemin du répertoire contenant les fichiers pickle\n",
        "directory_path = '/content/drive/MyDrive/20240125_dataset_pickle'\n",
        "\n",
        "# Liste pour stocker les données extraites de chaque fichier\n",
        "data_list = []\n",
        "\n",
        "# Parcours de tous les fichiers pickle dans le répertoire spécifié\n",
        "for filename in os.listdir(directory_path):\n",
        "    if filename.endswith('.pickle'):\n",
        "        # Lecture du fichier pickle et extraction des colonnes nécessaires\n",
        "        file_data = pd.read_pickle(os.path.join(directory_path, filename))\n",
        "        relevant_columns = [\"dcterms:identifier{Literal}\",\"dcterms:title{Literal}\",\"dcterms:abstract{Literal}@fr\",\"persee:dateOfPrintPublication{Literal}(xsd:gYear)\", \"marcrel:aut{URIRef}[0]\",\"marcrel:aut{URIRef}[1]\",\n",
        "          \"marcrel:aut{URIRef}[2]\",\"marcrel:aut{URIRef}[3]\",\"marcrel:aut{URIRef}[4]\",\"marcrel:aut{URIRef}[5]\",\"marcrel:aut{URIRef}[6]\",\n",
        "          \"marcrel:aut{URIRef}[7]\",\"marcrel:aut{URIRef}[8]\",\"marcrel:aut{URIRef}[9]\",\"cito:isCitedBy{URIRef}[0]\",\"cito:isCitedBy{URIRef}[1]\",\"cito:isCitedBy{URIRef}[2]\",\n",
        "          \"cito:isCitedBy{URIRef}[3]\",\"cito:isCitedBy{URIRef}[4]\",\"cito:isCitedBy{URIRef}[5]\",\"cito:isCitedBy{URIRef}[6]\",\"cito:isCitedBy{URIRef}[7]\",\"cito:isCitedBy{URIRef}[8]\",\"cito:isCitedBy{URIRef}[9]\"]  # Colonnes à extraire\n",
        "        file_data = file_data[relevant_columns]\n",
        "        # Ajout des données extraites à la liste\n",
        "        data_list.append(file_data)\n",
        "\n",
        "# Fusion de toutes les données extraites dans un seul DataFrame\n",
        "data = pd.concat(data_list, ignore_index=True)\n",
        "\n",
        "# Affichage des premières lignes du DataFrame résultant\n",
        "print(data.head())"
      ],
      "metadata": {
        "colab": {
          "base_uri": "https://localhost:8080/"
        },
        "id": "TgaMWhAujiM7",
        "outputId": "73125621-0f77-4015-aad9-c256220aa6dc"
      },
      "execution_count": 5,
      "outputs": [
        {
          "output_type": "stream",
          "name": "stdout",
          "text": [
            "                         dcterms:identifier{Literal}  \\\n",
            "0  https://www.persee.fr/doc/1895_0769-0959_1986_...   \n",
            "1  https://www.persee.fr/doc/1895_0769-0959_1986_...   \n",
            "2  https://www.persee.fr/doc/1895_0769-0959_1986_...   \n",
            "3  https://www.persee.fr/doc/1895_0769-0959_1986_...   \n",
            "4  https://www.persee.fr/doc/1895_0769-0959_1986_...   \n",
            "\n",
            "              dcterms:title{Literal} dcterms:abstract{Literal}@fr  \\\n",
            "0              La cinémathèque rose                           NaN   \n",
            "1                      Vis «Comica»                           NaN   \n",
            "2                   La bande à Léon                           NaN   \n",
            "3                  The Perret touch                           NaN   \n",
            "4  Les débuts du cinéma à Angoulême                           NaN   \n",
            "\n",
            "  persee:dateOfPrintPublication{Literal}(xsd:gYear)  \\\n",
            "0                                              1986   \n",
            "1                                              1986   \n",
            "2                                              1986   \n",
            "3                                              1986   \n",
            "4                                              1986   \n",
            "\n",
            "                          marcrel:aut{URIRef}[0] marcrel:aut{URIRef}[1]  \\\n",
            "0                                            NaN                    NaN   \n",
            "1                                            NaN                    NaN   \n",
            "2                                            NaN                    NaN   \n",
            "3                                            NaN                    NaN   \n",
            "4  http://data.persee.fr/authority/294338#Person                    NaN   \n",
            "\n",
            "  marcrel:aut{URIRef}[2] marcrel:aut{URIRef}[3] marcrel:aut{URIRef}[4]  \\\n",
            "0                    NaN                    NaN                    NaN   \n",
            "1                    NaN                    NaN                    NaN   \n",
            "2                    NaN                    NaN                    NaN   \n",
            "3                    NaN                    NaN                    NaN   \n",
            "4                    NaN                    NaN                    NaN   \n",
            "\n",
            "  marcrel:aut{URIRef}[5]  ... cito:isCitedBy{URIRef}[0]  \\\n",
            "0                    NaN  ...                       NaN   \n",
            "1                    NaN  ...                       NaN   \n",
            "2                    NaN  ...                       NaN   \n",
            "3                    NaN  ...                       NaN   \n",
            "4                    NaN  ...                       NaN   \n",
            "\n",
            "  cito:isCitedBy{URIRef}[1] cito:isCitedBy{URIRef}[2]  \\\n",
            "0                       NaN                       NaN   \n",
            "1                       NaN                       NaN   \n",
            "2                       NaN                       NaN   \n",
            "3                       NaN                       NaN   \n",
            "4                       NaN                       NaN   \n",
            "\n",
            "  cito:isCitedBy{URIRef}[3] cito:isCitedBy{URIRef}[4]  \\\n",
            "0                       NaN                       NaN   \n",
            "1                       NaN                       NaN   \n",
            "2                       NaN                       NaN   \n",
            "3                       NaN                       NaN   \n",
            "4                       NaN                       NaN   \n",
            "\n",
            "  cito:isCitedBy{URIRef}[5] cito:isCitedBy{URIRef}[6]  \\\n",
            "0                       NaN                       NaN   \n",
            "1                       NaN                       NaN   \n",
            "2                       NaN                       NaN   \n",
            "3                       NaN                       NaN   \n",
            "4                       NaN                       NaN   \n",
            "\n",
            "  cito:isCitedBy{URIRef}[7] cito:isCitedBy{URIRef}[8]  \\\n",
            "0                       NaN                       NaN   \n",
            "1                       NaN                       NaN   \n",
            "2                       NaN                       NaN   \n",
            "3                       NaN                       NaN   \n",
            "4                       NaN                       NaN   \n",
            "\n",
            "  cito:isCitedBy{URIRef}[9]  \n",
            "0                       NaN  \n",
            "1                       NaN  \n",
            "2                       NaN  \n",
            "3                       NaN  \n",
            "4                       NaN  \n",
            "\n",
            "[5 rows x 24 columns]\n"
          ]
        }
      ]
    },
    {
      "cell_type": "code",
      "source": [
        "# Mapping des nouveaux noms de colonnes\n",
        "new_column_names = {\n",
        "    \"dcterms:identifier{Literal}\": \"identifiant\",\n",
        "    \"dcterms:title{Literal}\": \"titre\",\n",
        "    \"dcterms:abstract{Literal}@fr\": \"abstract_fr\",\n",
        "    \"persee:dateOfPrintPublication{Literal}(xsd:gYear)\" : \"Date_publication\",\n",
        "    \"marcrel:aut{URIRef}[0]\": \"auteur_0\",\n",
        "    \"marcrel:aut{URIRef}[1]\": \"auteur_1\",\n",
        "    \"marcrel:aut{URIRef}[2]\": \"auteur_2\",\n",
        "    \"marcrel:aut{URIRef}[3]\": \"auteur_3\",\n",
        "    \"marcrel:aut{URIRef}[4]\": \"auteur_4\",\n",
        "    \"marcrel:aut{URIRef}[5]\": \"auteur_5\",\n",
        "    \"marcrel:aut{URIRef}[6]\": \"auteur_6\",\n",
        "    \"marcrel:aut{URIRef}[7]\": \"auteur_7\",\n",
        "    \"marcrel:aut{URIRef}[8]\": \"auteur_8\",\n",
        "    \"marcrel:aut{URIRef}[9]\": \"auteur_9\",\n",
        "    \"cito:isCitedBy{URIRef}[0]\": \"cite_par_0\",\n",
        "    \"cito:isCitedBy{URIRef}[1]\": \"cite_par_1\",\n",
        "    \"cito:isCitedBy{URIRef}[2]\": \"cite_par_2\",\n",
        "    \"cito:isCitedBy{URIRef}[3]\": \"cite_par_3\",\n",
        "    \"cito:isCitedBy{URIRef}[4]\": \"cite_par_4\",\n",
        "    \"cito:isCitedBy{URIRef}[5]\": \"cite_par_5\",\n",
        "    \"cito:isCitedBy{URIRef}[6]\": \"cite_par_6\",\n",
        "    \"cito:isCitedBy{URIRef}[7]\": \"cite_par_7\",\n",
        "    \"cito:isCitedBy{URIRef}[8]\": \"cite_par_8\",\n",
        "    \"cito:isCitedBy{URIRef}[9]\": \"cite_par_9\"\n",
        "}\n",
        "\n",
        "# Renommer les colonnes\n",
        "data.rename(columns=new_column_names, inplace=True)\n",
        "\n",
        "# Afficher les nouvelles colonnes\n",
        "print(data.head())"
      ],
      "metadata": {
        "colab": {
          "base_uri": "https://localhost:8080/"
        },
        "id": "IFlWWvsCjqKX",
        "outputId": "0cebac7a-6857-40ff-ddea-7f59ada9ae47"
      },
      "execution_count": 10,
      "outputs": [
        {
          "output_type": "stream",
          "name": "stdout",
          "text": [
            "                                         identifiant  \\\n",
            "0  https://www.persee.fr/doc/1895_0769-0959_1986_...   \n",
            "1  https://www.persee.fr/doc/1895_0769-0959_1986_...   \n",
            "2  https://www.persee.fr/doc/1895_0769-0959_1986_...   \n",
            "3  https://www.persee.fr/doc/1895_0769-0959_1986_...   \n",
            "4  https://www.persee.fr/doc/1895_0769-0959_1986_...   \n",
            "\n",
            "                               titre abstract_fr Date_publication  \\\n",
            "0              La cinémathèque rose          NaN             1986   \n",
            "1                      Vis «Comica»          NaN             1986   \n",
            "2                   La bande à Léon          NaN             1986   \n",
            "3                  The Perret touch          NaN             1986   \n",
            "4  Les débuts du cinéma à Angoulême          NaN             1986   \n",
            "\n",
            "                                        auteur_0 auteur_1 auteur_2 auteur_3  \\\n",
            "0                                            NaN      NaN      NaN      NaN   \n",
            "1                                            NaN      NaN      NaN      NaN   \n",
            "2                                            NaN      NaN      NaN      NaN   \n",
            "3                                            NaN      NaN      NaN      NaN   \n",
            "4  http://data.persee.fr/authority/294338#Person      NaN      NaN      NaN   \n",
            "\n",
            "  auteur_4 auteur_5  ... cite_par_0 cite_par_1 cite_par_2 cite_par_3  \\\n",
            "0      NaN      NaN  ...        NaN        NaN        NaN        NaN   \n",
            "1      NaN      NaN  ...        NaN        NaN        NaN        NaN   \n",
            "2      NaN      NaN  ...        NaN        NaN        NaN        NaN   \n",
            "3      NaN      NaN  ...        NaN        NaN        NaN        NaN   \n",
            "4      NaN      NaN  ...        NaN        NaN        NaN        NaN   \n",
            "\n",
            "  cite_par_4 cite_par_5 cite_par_6 cite_par_7 cite_par_8 cite_par_9  \n",
            "0        NaN        NaN        NaN        NaN        NaN        NaN  \n",
            "1        NaN        NaN        NaN        NaN        NaN        NaN  \n",
            "2        NaN        NaN        NaN        NaN        NaN        NaN  \n",
            "3        NaN        NaN        NaN        NaN        NaN        NaN  \n",
            "4        NaN        NaN        NaN        NaN        NaN        NaN  \n",
            "\n",
            "[5 rows x 24 columns]\n"
          ]
        }
      ]
    },
    {
      "cell_type": "code",
      "source": [
        "nombre_documents = len(data)\n",
        "print(\"Nombre de documents :\", nombre_documents)"
      ],
      "metadata": {
        "colab": {
          "base_uri": "https://localhost:8080/"
        },
        "id": "JXQzEc5mjqzO",
        "outputId": "169b2097-ee48-4de8-9e8f-716ca8e6e61c"
      },
      "execution_count": 11,
      "outputs": [
        {
          "output_type": "stream",
          "name": "stdout",
          "text": [
            "Nombre de documents : 908780\n"
          ]
        }
      ]
    },
    {
      "cell_type": "markdown",
      "source": [
        "## Fractionnement de la base de données\n",
        "\n",
        "**Cause :** RAM et volume de la base de données incompatibles"
      ],
      "metadata": {
        "id": "iIqvcNQkAG_z"
      }
    },
    {
      "cell_type": "code",
      "execution_count": 12,
      "metadata": {
        "colab": {
          "base_uri": "https://localhost:8080/"
        },
        "id": "odBHTIZrjOpR",
        "outputId": "a5d2941f-29fb-4f55-e1e5-9f124bdc47c7"
      },
      "outputs": [
        {
          "output_type": "stream",
          "name": "stdout",
          "text": [
            "Taille de l'échantillon : 272634\n"
          ]
        }
      ],
      "source": [
        "# Prendre seulement 30% de la base de données\n",
        "sampled_data = data.sample(frac=0.3, random_state=42)\n",
        "\n",
        "# Afficher la taille de l'échantillon\n",
        "print(\"Taille de l'échantillon :\", len(sampled_data))"
      ]
    },
    {
      "cell_type": "code",
      "source": [
        "# Spécifiez le chemin où vous souhaitez enregistrer le fichier CSV dans votre Google Drive\n",
        "chemin_dossier_drive = '/content/drive/MyDrive/database'\n",
        "nom_fichier_csv = 'data_sampled.csv'\n",
        "chemin_fichier_csv = chemin_dossier_drive + '/' + nom_fichier_csv\n",
        "\n",
        "# Enregistrez le DataFrame échantillonné dans un fichier CSV\n",
        "sampled_data.to_csv(chemin_fichier_csv, index=True)\n",
        "\n",
        "print(\"Le fichier CSV a été enregistré avec succès dans votre Google Drive.\")"
      ],
      "metadata": {
        "colab": {
          "base_uri": "https://localhost:8080/"
        },
        "id": "B9oTq2GCkvCy",
        "outputId": "8efd56c7-3933-430a-d074-81006fcaa924"
      },
      "execution_count": 13,
      "outputs": [
        {
          "output_type": "stream",
          "name": "stdout",
          "text": [
            "Le fichier CSV a été enregistré avec succès dans votre Google Drive.\n"
          ]
        }
      ]
    }
  ]
}